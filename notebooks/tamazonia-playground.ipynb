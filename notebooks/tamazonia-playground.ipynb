{
 "cells": [
  {
   "cell_type": "markdown",
   "id": "700ce0da",
   "metadata": {},
   "source": [
    "# Libraries Import"
   ]
  },
  {
   "cell_type": "code",
   "execution_count": 1,
   "id": "12e57bd3",
   "metadata": {},
   "outputs": [
    {
     "name": "stderr",
     "output_type": "stream",
     "text": [
      "/Users/tamalyyna/.pyenv/versions/3.10.6/envs/amazon-customer-review-analysis/lib/python3.10/site-packages/tqdm/auto.py:21: TqdmWarning: IProgress not found. Please update jupyter and ipywidgets. See https://ipywidgets.readthedocs.io/en/stable/user_install.html\n",
      "  from .autonotebook import tqdm as notebook_tqdm\n"
     ]
    }
   ],
   "source": [
    "import pandas as pd\n",
    "from transformers import AutoTokenizer, AutoModelForSequenceClassification\n",
    "import torch\n",
    "import random"
   ]
  },
  {
   "cell_type": "markdown",
   "id": "de9227a8",
   "metadata": {},
   "source": [
    "# Data"
   ]
  },
  {
   "cell_type": "markdown",
   "id": "26a76648-7ec6-49ec-b407-f20f556c9cc8",
   "metadata": {},
   "source": [
    "## Data import"
   ]
  },
  {
   "cell_type": "code",
   "execution_count": 2,
   "id": "96ae83c1",
   "metadata": {},
   "outputs": [],
   "source": [
    "file_path = \"../raw_data/amazon.csv\"\n",
    "df = pd.read_csv(file_path)"
   ]
  },
  {
   "cell_type": "markdown",
   "id": "3eb3fc2d-15b0-4d51-bae5-775f0dede0be",
   "metadata": {},
   "source": [
    "## Data exploration"
   ]
  },
  {
   "cell_type": "code",
   "execution_count": null,
   "id": "1452145b",
   "metadata": {},
   "outputs": [],
   "source": [
    "df.head()"
   ]
  },
  {
   "cell_type": "code",
   "execution_count": null,
   "id": "dd456d74",
   "metadata": {},
   "outputs": [],
   "source": [
    "df.info()"
   ]
  },
  {
   "cell_type": "code",
   "execution_count": null,
   "id": "9e417976",
   "metadata": {},
   "outputs": [],
   "source": [
    "df.describe()"
   ]
  },
  {
   "cell_type": "code",
   "execution_count": null,
   "id": "1ce3e800",
   "metadata": {},
   "outputs": [],
   "source": [
    "df.shape"
   ]
  },
  {
   "cell_type": "code",
   "execution_count": null,
   "id": "cb56b4a9",
   "metadata": {},
   "outputs": [],
   "source": [
    "df[\"review_content\"][0]"
   ]
  },
  {
   "cell_type": "markdown",
   "id": "37432bd3-a241-4d11-977c-7c1880b1426e",
   "metadata": {},
   "source": [
    "# BERT"
   ]
  },
  {
   "cell_type": "markdown",
   "id": "a3f85d6d-a0aa-4ed8-b6e0-13566c87a3fc",
   "metadata": {},
   "source": [
    "## Instantiate Model"
   ]
  },
  {
   "cell_type": "code",
   "execution_count": null,
   "id": "be48ac88-c930-4fe2-97b9-f20bebd4f693",
   "metadata": {},
   "outputs": [],
   "source": [
    "tokenizer = AutoTokenizer.from_pretrained(\"nlptown/bert-base-multilingual-uncased-sentiment\")\n",
    "\n",
    "model = AutoModelForSequenceClassification.from_pretrained(\"nlptown/bert-base-multilingual-uncased-sentiment\")"
   ]
  },
  {
   "cell_type": "markdown",
   "id": "3307da12-4f7f-45e6-926d-444cbaa5f08e",
   "metadata": {},
   "source": [
    "## Encode and calculate Sentiment"
   ]
  },
  {
   "cell_type": "code",
   "execution_count": null,
   "id": "1627b2c4-6ad2-4b37-81c6-91c8d3c44ddc",
   "metadata": {},
   "outputs": [],
   "source": [
    "tokens = tokenizer.encode(\"Ganz gut\", return_tensors=\"pt\")"
   ]
  },
  {
   "cell_type": "code",
   "execution_count": null,
   "id": "c327e1bc-ea04-4d5a-aedf-140739926e26",
   "metadata": {},
   "outputs": [],
   "source": [
    "result = model(tokens)"
   ]
  },
  {
   "cell_type": "code",
   "execution_count": null,
   "id": "b23a83d9-524a-49f4-ac12-f417a2e4d591",
   "metadata": {},
   "outputs": [],
   "source": [
    "result.logits"
   ]
  },
  {
   "cell_type": "code",
   "execution_count": null,
   "id": "aba9cda1-e3a0-4eb4-a02a-b3dbab715656",
   "metadata": {},
   "outputs": [],
   "source": [
    "int(torch.argmax(result.logits))+1"
   ]
  },
  {
   "cell_type": "markdown",
   "id": "53b110ad-e7ad-4ce4-8f73-147ffe90160d",
   "metadata": {},
   "source": [
    "## Score our Data"
   ]
  },
  {
   "cell_type": "markdown",
   "id": "2f9cd2e4-9c0d-4e83-83f3-c1c3792c527a",
   "metadata": {},
   "source": [
    "### Create pseudo-data to test"
   ]
  },
  {
   "cell_type": "code",
   "execution_count": null,
   "id": "04683b52-e201-44da-b988-b98ed0072435",
   "metadata": {},
   "outputs": [],
   "source": [
    "# Create some example data with titles\n",
    "pseudo_data = {\n",
    "    'Username': ['user1', 'user2', 'user3', 'user4', 'user5', 'user6', 'user7', 'user8', 'user9', 'user10'],\n",
    "    'ProductID': [101, 101, 101, 102, 102, 103, 104, 104, 105, 106],\n",
    "    'Title': [\n",
    "        'Excellent Product',\n",
    "        'Good Purchase',\n",
    "        'Average Quality',\n",
    "        'Very Disappointed',\n",
    "        'Highly Recommended',\n",
    "        'Functional but Not Perfect',\n",
    "        'Waste of Money',\n",
    "        'Satisfactory Purchase',\n",
    "        'Exceeded Expectations',\n",
    "        'Mixed Feelings'],\n",
    "    'Review': [\n",
    "        'Excellent',\n",
    "        'Good product.',\n",
    "        'Average quality for the price.',\n",
    "        'Not recommended. Very disappointed.',\n",
    "        'Awesome! I love it. Highly recommended.',\n",
    "        'Could be better, but it works.',\n",
    "        'Terrible. Waste of money.',\n",
    "        'Satisfactory purchase. No complaints.',\n",
    "        'This product exceeded my expectations. Great value!',\n",
    "        'I have mixed feelings about this product.']\n",
    "}\n",
    "\n",
    "# Add random additional sentences to some reviews\n",
    "for i in range(5):\n",
    "    index = random.randint(0, 9)\n",
    "    additional_sentences = [\n",
    "        'I received it on time.',\n",
    "        'The packaging was damaged, but the product was intact.',\n",
    "        'The customer service was helpful.',\n",
    "        'The color is not as described in the picture.',\n",
    "        'I would buy it again in the future.']\n",
    "    pseudo_data['Review'][index] += ' ' + ' '.join(random.sample(additional_sentences, random.randint(1, 3)))\n",
    "\n",
    "# Create a DataFrame named pseudo_df\n",
    "pseudo_df = pd.DataFrame(pseudo_data)\n",
    "\n",
    "# Display the DataFrame\n",
    "pseudo_df\n"
   ]
  },
  {
   "cell_type": "markdown",
   "id": "70a60876-1612-458e-93e6-db451e007bbb",
   "metadata": {},
   "source": [
    "### Loop through data and pass to model"
   ]
  },
  {
   "cell_type": "code",
   "execution_count": null,
   "id": "26e99827-934a-4d79-9fa9-dd3ddcde5b7d",
   "metadata": {},
   "outputs": [],
   "source": [
    "# function to to get a review and pass through the model\n",
    "def sentiment_score(review):\n",
    "    tokens = tokenizer.encode(review, return_tensors=\"pt\")\n",
    "    result = model(tokens)\n",
    "    return int(torch.argmax(result.logits))+1"
   ]
  },
  {
   "cell_type": "code",
   "execution_count": null,
   "id": "c01e1854-1869-4d3a-8b42-6d2044f86d62",
   "metadata": {},
   "outputs": [],
   "source": [
    "pseudo_df[\"Sentiment Title\"] = pseudo_df[\"Title\"].apply(lambda x: sentiment_score(x[:512]))"
   ]
  },
  {
   "cell_type": "code",
   "execution_count": null,
   "id": "548efd97-191c-4161-99ad-36e66996b00a",
   "metadata": {},
   "outputs": [],
   "source": [
    "pseudo_df[\"Sentiment Review\"] = pseudo_df[\"Review\"].apply(lambda x: sentiment_score(x[:512]))"
   ]
  },
  {
   "cell_type": "code",
   "execution_count": null,
   "id": "7e9f3808-2a92-4885-bbfd-a36ae2dace33",
   "metadata": {},
   "outputs": [],
   "source": [
    "pseudo_df"
   ]
  },
  {
   "cell_type": "markdown",
   "id": "f05dece0-e734-4483-9c91-bae7340b921d",
   "metadata": {},
   "source": [
    "# To Dos"
   ]
  },
  {
   "cell_type": "markdown",
   "id": "505e585c-fef0-47ec-8b7e-004c1c5394ea",
   "metadata": {},
   "source": [
    "- 512 is maximum of passing through, so we need to somehow continue looping after again for 512"
   ]
  },
  {
   "cell_type": "code",
   "execution_count": null,
   "id": "e2d8eebc-8599-4fe9-80ee-98dfc7990928",
   "metadata": {},
   "outputs": [],
   "source": []
  }
 ],
 "metadata": {
  "kernelspec": {
   "display_name": "Python 3 (ipykernel)",
   "language": "python",
   "name": "python3"
  },
  "language_info": {
   "codemirror_mode": {
    "name": "ipython",
    "version": 3
   },
   "file_extension": ".py",
   "mimetype": "text/x-python",
   "name": "python",
   "nbconvert_exporter": "python",
   "pygments_lexer": "ipython3",
   "version": "3.10.6"
  },
  "toc": {
   "base_numbering": 1,
   "nav_menu": {},
   "number_sections": true,
   "sideBar": true,
   "skip_h1_title": false,
   "title_cell": "Table of Contents",
   "title_sidebar": "Contents",
   "toc_cell": false,
   "toc_position": {},
   "toc_section_display": true,
   "toc_window_display": false
  }
 },
 "nbformat": 4,
 "nbformat_minor": 5
}
